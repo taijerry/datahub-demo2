{
 "cells": [
  {
   "cell_type": "code",
   "execution_count": 1,
   "metadata": {},
   "outputs": [],
   "source": [
    "%matplotlib inline"
   ]
  },
  {
   "cell_type": "code",
   "execution_count": 2,
   "metadata": {},
   "outputs": [],
   "source": [
    "import sys\n",
    "sys.path.append('src')\n",
    "\n",
    "from markov import *\n",
    "from figutils import *"
   ]
  },
  {
   "cell_type": "markdown",
   "metadata": {},
   "source": [
    "# 2-state system\n",
    "\n",
    "Condsider a sytem that has two states (State 0 and State 1). This could be a protein with bound and unbound states. Or ATP in a hydrolyzed or unhydrolyzed state.\n",
    "\n",
    "Let $X=0$ correspond to when the system is in state 0. And let $X=1$ correspond to when the system is in state 1.\n",
    "\n",
    "## Problem 1\n",
    "\n",
    "a. Run the code below to generate a time trace when Keq = 1. Save the figure. Repeat for Keq = 5 and Keq = 10.\n",
    "\n",
    "b. Give a qualitative description of the differences between these conditions.\n",
    "\n",
    "c. For a two state system, over time, we expect $\\frac{p_1}{p_0} = K_{eq}$. Solve for the absolute (not relative) value of $p_0$ as a function of Keq.\n",
    "\n",
    "d. Run the code and plots below with Keq = 1 and time = 100. What *actual* fraction of time is spent in State 0? State 1? (this will be indicated on the plot). How does the Keq=1 simulation of part (a) compare to the simulation of part (d)? How do these relate to your answer in (c)? Explain any deviations.\n",
    "\n",
    "e. The variance (the standard deviation squared) of a two-state random variable is given by $V = p_0(1-p_0)$. So the standard deviation of the two-state variable $X$ is $\\sigma_X = \\sqrt{p_0(1-p_0)}$. What is the $\\sigma_X$ when Keq = 1? Repeat for Keq=5. This quantity represents how much $X$ fluctuates over time."
   ]
  },
  {
   "cell_type": "code",
   "execution_count": 3,
   "metadata": {},
   "outputs": [],
   "source": [
    "# forward rate\n",
    "kf = 3\n",
    "# backward rate\n",
    "kb = 3\n",
    "# equilibrium constant\n",
    "Keq = 1 # f / b\n",
    "kf *= Keq\n",
    "\n",
    "# Rate matrix\n",
    "Q = np.array([[-kf, kf], [kb, -kb]])"
   ]
  },
  {
   "cell_type": "code",
   "execution_count": 4,
   "metadata": {},
   "outputs": [],
   "source": [
    "time = 10\n",
    "tr, t = simulate_cmc(Q, time) # returns transitions, times"
   ]
  },
  {
   "cell_type": "code",
   "execution_count": 5,
   "metadata": {},
   "outputs": [],
   "source": [
    "tr, t = np.array(tr), np.array(t)\n",
    "t1 = (tr[:-1] * np.diff(t)).sum()\n",
    "tt = t[-1]\n",
    "t0 = tt-t1"
   ]
  },
  {
   "cell_type": "code",
   "execution_count": 6,
   "metadata": {},
   "outputs": [],
   "source": [
    "plt.figure(figsize=(8, 3))\n",
    "plt.step(t, tr, where='post')\n",
    "plt.xlabel('Time')\n",
    "plt.ylabel('State')\n",
    "plt.yticks([0, 1])\n",
    "plt.title(f't0: {t0/tt:.02f}   t1: {t1/tt:.02f}')\n",
    "plt.tight_layout()"
   ]
  },
  {
   "cell_type": "markdown",
   "metadata": {},
   "source": [
    "# Ensemble of N independent 2-state systems\n",
    "\n",
    "Now we consider $N$ independent 2-state systems. This could be N independent proteins that could be bound or unbound, or N ATP molecules that could be hydrolyzed or unhydrolyzed.\n",
    "\n",
    "\n",
    "## Problem 2\n",
    "\n",
    "Make sure to have reset the `Keq` to 1 in the code cell above for the questions below.\n",
    "\n",
    "a. Run `liveCMC` (in code cell below) with `nx=5`. Save a snapshot of the simulation. Repeat with `nx=300`. Save a snapshot.\n",
    "\n",
    "b. Let the total number of blue tiles (state 1) be $N_1$. What do you expect to be the value of $N_1$ in both conditions? Explain.\n",
    "\n",
    "c. Let $X$ be the state value (0 or 1) of a single tile, and define the ensemble mean state value as $\\overline{X} = \\frac{N_1}{N_\\text{total}}$. What do you expect the value of $\\overline{X}$ to be in both conditions? Explain.\n",
    "\n",
    "d. Run `CMC` with `nx=10` and `time=200`. Plot the total number of blue tiles, $N_1$, of the ensemble over time. Save this figure. \n",
    "\n",
    "e. For (d), when does the system first come within 90% of its maximal value? (look at printed output of code cells below)\n",
    "\n",
    "f. To capture the fluctuations over time, plot the histogram and Gaussian fit of $N_1$ (the number of tiles in state 1) after the system has approached 90% of its maximum. \n",
    "\n",
    "g. What is the typical size of a fluctuation in this system (d)? (i.e., what is the $\\sigma_{N_1}$?, look at printed output of code cells below)\n",
    "\n",
    "h. Rerun `CMC` with `nx=100` and the same time. Plot and save the time trace and histogram.\n",
    "\n",
    "i. What is the typical size of a fluctuation of $N_1$ in (h)? (i.e., what is the standard deviation?). How does this compare to (g, `nx=10`)? Does the standard deviation of $N_1$ increase or decrease with system size? Show that the data follow the relationship below (approximately):\n",
    "\n",
    "$$\\sigma_{N_1} = \\sqrt{N_{total}}\\ \\sigma_X$$\n",
    "\n",
    "Hint: Recall that $N_{total}$ is `nx` squared. Also, $\\frac{\\sigma_{N_1}}{\\sqrt{N_{total}}}$ should have a constant ratio. Take the values for $\\sigma_{N_1}$ and $\\sqrt{N_{total}}$ from two the two simulations (from d. and h.) and show this is the case."
   ]
  },
  {
   "cell_type": "code",
   "execution_count": 7,
   "metadata": {},
   "outputs": [],
   "source": [
    "nx = 5\n",
    "time = 3.5\n",
    "fa, num = liveCMC(Q, time=time, nx=nx, sr=15, ticks=False)"
   ]
  },
  {
   "cell_type": "code",
   "execution_count": 8,
   "metadata": {},
   "outputs": [],
   "source": [
    "nx = 10\n",
    "time = 200\n",
    "ts, num = CMC(Q, time=time, nx=nx, sr=15, ticks=False)"
   ]
  },
  {
   "cell_type": "code",
   "execution_count": 9,
   "metadata": {},
   "outputs": [
    {
     "name": "stdout",
     "output_type": "stream",
     "text": [
      "Time at which >90.00% max N1: 10.29\n"
     ]
    }
   ],
   "source": [
    "plt.plot(ts, num, label=r'$N_1$')\n",
    "# plt.fill_between(t, u-d, u+d, color='C0', alpha=0.3, label=r'$N_1 \\pm \\sigma$')\n",
    "plt.xlabel('Time (sec)')\n",
    "plt.ylabel('$N_1$')\n",
    "\n",
    "f = 0.9\n",
    "start = (num > f * num.max()).argmax()\n",
    "n = num[start:]\n",
    "print(f'Time at which >{f:.02%} max N1: {ts[start]:.02f}')"
   ]
  },
  {
   "cell_type": "code",
   "execution_count": 10,
   "metadata": {},
   "outputs": [
    {
     "name": "stdout",
     "output_type": "stream",
     "text": [
      "sigma(N_1):   4.99\n"
     ]
    }
   ],
   "source": [
    "from scipy.stats import norm\n",
    "\n",
    "b = np.arange(n.min(), n.max()+1)\n",
    "_ = plt.hist(n, bins=b, density=1, label='Data', align='left')\n",
    "plt.xlabel('Number of Systems with State 1')\n",
    "plt.ylabel('Probability')\n",
    "\n",
    "loc, scale = norm.fit(n)\n",
    "xs = np.linspace(n.min(), n.max(), 150)\n",
    "plt.plot(xs, norm(loc=loc, scale=scale).pdf(xs), label='Gaussian Fit')\n",
    "\n",
    "plt.legend()\n",
    "\n",
    "print('sigma(N_1):   {:.02f}'.format(n.std()))\n",
    "p = 1/(1 + Keq)\n",
    "sx = np.sqrt(p * (1-p))\n",
    "# print(f'sigma(X):     {sx}')"
   ]
  },
  {
   "cell_type": "markdown",
   "metadata": {},
   "source": [
    "## Problem 3\n",
    "\n",
    "In problem 2 we looked at fluctuations in **the total** number of systems with state 1 (i.e. $\\sigma_{N_1}$). Now we will look at flucutations in **the ensemble mean** (i.e. $\\sigma_{\\overline{X}}$) as a function of system size. Recall that the ensemble mean is defined as $\\overline{X} = \\frac{N_1}{N_\\text{total}}$\n",
    "\n",
    "a. Run the code below and plot a scatter plot of 'system size' vs 'fluctuation size'. Save the figure.\n",
    "\n",
    "b. What is the general trend observed? Give a qualitative explanation for why fluctuations of the **total**, $N_1$,  increase with system size, but fluctuations of the **mean**, $\\overline{X}$, decrease with system size?\n",
    "\n",
    "c. A common statistical tool to analyze deviations is the *standard error of the mean* which is the following:\n",
    "\n",
    "$$\\sigma_\\overline{X}={\\frac {\\sigma_X}{\\sqrt{n}}}$$\n",
    "\n",
    "Do the numbers calculated for the scatter plot in (b) agree with this relationship? Show using two data points.\n",
    "\n",
    "d. Are the observed deviations errors? Explain. \n",
    "\n",
    "e. Plot the log-log scatter plot. Save a figure.\n",
    "\n",
    "f. Interpret the log-log plot. What is the approximate slope? How does this relate to the equation in (c)?\n",
    "\n",
    "g. GRB2 is an important membrane binding protein. Assume the following: it is in thermodynamic equilibrium with its partner on the interior of the plasma membrane, its Keq for the bound state relative to the unbound state is 0.1, and there are 1000 copies of GRB2 in the cell.\n",
    "\n",
    "  * (i) What is the total probability that GRB2 is bound? Follow logic of 1c. How much GRB2 do we expect to be bound at the membrane?\n",
    "  * (ii) How much does the state of a single GRB2 molecule vary over time? That is, solve for $\\sigma_X$ using the equation in 1e.\n",
    "  * (iii) How much does the total amount of GRB2 bound to the membrane vary over time? That is, solve for $\\sigma_{N_1}$ using the equation in 2i.\n",
    "  * (iv) How much does the ensemble mean state of GRB2 vary over time? That is, solve for $\\sigma_{\\overline{X}}$ using the equation in 3c.\n",
    "  * (v) Speculate on which of these quantities (total bound or ensemble mean) is more influential to cellular response and why."
   ]
  },
  {
   "cell_type": "code",
   "execution_count": 11,
   "metadata": {},
   "outputs": [],
   "source": [
    "ns = []\n",
    "ps = []\n",
    "sd = []\n",
    "time = 50\n",
    "for n in [1, 5, 10, 20, 40, 80]:\n",
    "    ns.append(n*n)\n",
    "    ts, num = CMC(Q, time=time, nx=n, sr=15, ticks=False)\n",
    "    start = (num > 0.90 * num.max()).argmax()\n",
    "    nu = num[start:]\n",
    "    p = nu / n / n\n",
    "    ps.append(p.mean())\n",
    "    sd.append(p.std())\n",
    "ns = np.array(ns)\n",
    "ps = np.array(ps)\n",
    "sd = np.array(sd)"
   ]
  },
  {
   "cell_type": "code",
   "execution_count": 12,
   "metadata": {},
   "outputs": [
    {
     "name": "stdout",
     "output_type": "stream",
     "text": [
      "Number of tiles:  [   1   25  100  400 1600 6400]\n",
      "Mean of X:        [0.4986 0.5133 0.5068 0.4979 0.4998 0.4993]\n",
      "Fluctuations:     [0.5    0.0968 0.0493 0.0255 0.0125 0.0063]\n"
     ]
    }
   ],
   "source": [
    "np.set_printoptions(precision=4)\n",
    "print('Number of tiles: ', ns)\n",
    "print('Mean of X:       ', ps)\n",
    "print('Fluctuations:    ', sd)"
   ]
  },
  {
   "cell_type": "code",
   "execution_count": 13,
   "metadata": {},
   "outputs": [
    {
     "data": {
      "text/plain": [
       "Text(0, 0.5, 'Standard Deviation')"
      ]
     },
     "execution_count": 13,
     "metadata": {},
     "output_type": "execute_result"
    }
   ],
   "source": [
    "plt.scatter(ns, sd)\n",
    "plt.xlabel(\"System Size (N)\")\n",
    "plt.ylabel(\"Standard Deviation\")"
   ]
  },
  {
   "cell_type": "code",
   "execution_count": 14,
   "metadata": {},
   "outputs": [],
   "source": [
    "lns, lsd = np.log(ns), np.log(sd)\n",
    "plt.figure(figsize=(5, 3))\n",
    "plt.scatter(lns, lsd)\n",
    "plt.xlabel(\"System Size log $N_{total}$\")\n",
    "plt.ylabel(r\"log $\\sigma_{\\overline{X}}$\")\n",
    "plt.tight_layout()"
   ]
  },
  {
   "cell_type": "code",
   "execution_count": null,
   "metadata": {},
   "outputs": [],
   "source": []
  }
 ],
 "metadata": {
  "kernelspec": {
   "display_name": "Python 3",
   "language": "python",
   "name": "python3"
  },
  "language_info": {
   "codemirror_mode": {
    "name": "ipython",
    "version": 3
   },
   "file_extension": ".py",
   "mimetype": "text/x-python",
   "name": "python",
   "nbconvert_exporter": "python",
   "pygments_lexer": "ipython3",
   "version": "3.6.5"
  }
 },
 "nbformat": 4,
 "nbformat_minor": 2
}
