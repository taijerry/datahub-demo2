{
 "cells": [
  {
   "cell_type": "code",
   "execution_count": 1,
   "metadata": {},
   "outputs": [],
   "source": [
    "%matplotlib qt5\n",
    "\n",
    "import sys\n",
    "sys.path.append('src')"
   ]
  },
  {
   "cell_type": "code",
   "execution_count": 2,
   "metadata": {},
   "outputs": [],
   "source": [
    "import matplotlib as mpl\n",
    "dpi = 100\n",
    "mpl.rcParams['figure.dpi']= dpi\n",
    "mpl.rc(\"savefig\", dpi=dpi)"
   ]
  },
  {
   "cell_type": "code",
   "execution_count": 3,
   "metadata": {},
   "outputs": [],
   "source": [
    "from markov import *\n",
    "import math"
   ]
  },
  {
   "cell_type": "code",
   "execution_count": 4,
   "metadata": {},
   "outputs": [],
   "source": [
    "# values of kr and b to see different phenomena\n",
    "# kr = 0.01, b = 20 to observe protein burst / rna more easily\n",
    "# kr = 0.048, b = 10 to observe autoregulation (effects on transcription) more easily"
   ]
  },
  {
   "cell_type": "markdown",
   "metadata": {},
   "source": [
    "# Motif 1: Expression from a single gene (the effects of low copy variation)\n",
    "\n",
    "<img src=\"media/singlegene2.png\" width=\"700\">\n",
    "\n",
    "\n",
    "## Kinetic Scheme\n",
    "\n",
    "This image can be represented by the following scheme:\n",
    "\n",
    "<img src=\"media/schematic.png\" width=\"400\">\n",
    "\n",
    "We define the rates in the cell below. Note that\n",
    "\n",
    "* `kr` represents $k_r$ and `gr` represents $\\gamma_r$\n",
    "* `kp` represents $k_p$ and `gp` represents $\\gamma_p$\n",
    "* `b` is definded as $\\frac{k_p}{\\gamma_r}$ and represents the average number of proteins translated during an mRNA lifetime.\n"
   ]
  },
  {
   "cell_type": "markdown",
   "metadata": {},
   "source": [
    "<a id='rates1'></a>\n",
    "\n",
    "## Slower transcription, higher burst"
   ]
  },
  {
   "cell_type": "code",
   "execution_count": 5,
   "metadata": {},
   "outputs": [],
   "source": [
    "kr = 0.004  # rna/sec\n",
    "gp = 1.0 / math.log(2)  # protein/hour\n",
    "gp /= 60*60  # /sec\n",
    "gr = 2 / math.log(2) # rna/min\n",
    "gr /= 60\n",
    "\n",
    "b = 120  # mean proteins made per rna\n",
    "kp = b * gr"
   ]
  },
  {
   "cell_type": "markdown",
   "metadata": {},
   "source": [
    "We are interested in tracking 3 quantities: DNA (`g`), RNA (`r`), and protein (`p`). We will place the initial quantities in a vector called `s0 = [g, r, p]`"
   ]
  },
  {
   "cell_type": "code",
   "execution_count": 6,
   "metadata": {},
   "outputs": [],
   "source": [
    "s0 = np.array([1, 0, 0])"
   ]
  },
  {
   "cell_type": "markdown",
   "metadata": {},
   "source": [
    "In the simple case there are 6 reactions whose rate is linear with the quantities `[g, r, p]`: DNA is created (doesn't happen in our setup), RNA is created, protein is created, DNA is degraded, RNA is degraded, or protein is degraded.\n",
    "\n",
    "The first three linear reactions are captured by the matrix product `krates . s`, where `s` is the state vector with quantities `[g, r, p]`, while the latter three degradation reactions are captured by `grates . s`."
   ]
  },
  {
   "cell_type": "code",
   "execution_count": 7,
   "metadata": {},
   "outputs": [],
   "source": [
    "krates = [[ 0,  0,  0],\n",
    "          [kr,  0,  0],\n",
    "          [0,  kp,  0]]\n",
    "\n",
    "grates = [[ 0,  0,  0],\n",
    "          [ 0, gr,  0],\n",
    "          [ 0,  0, gp]]\n",
    "\n",
    "krates = np.array(krates)\n",
    "grates = np.array(grates)\n",
    "\n",
    "@numba.jit(nopython=True)\n",
    "def Q(state):\n",
    "    return np.concatenate((dot(krates, state), dot(grates, state)))"
   ]
  },
  {
   "cell_type": "markdown",
   "metadata": {},
   "source": [
    "\n",
    "`Q` is a function that takes the current state of the system (`s = [g, r, p]`) and returns the current reaction rates for the various reactions."
   ]
  },
  {
   "cell_type": "code",
   "execution_count": 8,
   "metadata": {},
   "outputs": [
    {
     "data": {
      "text/plain": [
       "array([0.   , 0.004, 0.   , 0.   , 0.   , 0.   ])"
      ]
     },
     "execution_count": 8,
     "metadata": {},
     "output_type": "execute_result"
    }
   ],
   "source": [
    "Q(s0)"
   ]
  },
  {
   "cell_type": "markdown",
   "metadata": {},
   "source": [
    "`V` is an array that contains the \"stoichometric change vectors\" for our 6 reactions. Suppose the current state of the system has 1 gene (g), 1 mrna (r), and 300 protein (p), then `s = [1, 1, 300]` represents this information. If DNA is created, the change to the state vector is `s + [1, 0, 0]`, and we make it so that `V[0] = [1, 0, 0]`. So if \"reaction 1\" occurs then the state changes by `s + V[0]`, if reaction 2 occurs then the state changes by `s + V[1]`, etc."
   ]
  },
  {
   "cell_type": "code",
   "execution_count": 9,
   "metadata": {
    "scrolled": true
   },
   "outputs": [
    {
     "data": {
      "text/plain": [
       "array([[ 1,  0,  0],\n",
       "       [ 0,  1,  0],\n",
       "       [ 0,  0,  1],\n",
       "       [-1,  0,  0],\n",
       "       [ 0, -1,  0],\n",
       "       [ 0,  0, -1]])"
      ]
     },
     "execution_count": 9,
     "metadata": {},
     "output_type": "execute_result"
    }
   ],
   "source": [
    "d = len(krates)\n",
    "V = np.vstack([np.eye(d), -np.eye(d)]).astype(np.int64)\n",
    "V "
   ]
  },
  {
   "cell_type": "markdown",
   "metadata": {},
   "source": [
    "## Problem 1\n",
    "\n",
    "a. Why is the `krates` matrix off diagonal and the `grates` matrix diagonal?\n",
    "\n",
    "b. Based off of the kinetic scheme above write down the differential equations for $\\frac{dr}{dt}$ and $\\frac{dp}{dt}$\n",
    "\n",
    "c. Solve for the steady state concentrations $r_{\\text{steady state}}$ and $p_{\\text{steady state}}$\n",
    "\n",
    "d. What is the expected $p_{\\text{steady state}}$ given the rate constants [above](#rates1). Hint: it would probably be easiest to make another code and use the currently declared values for `kr, kp, gr, gp`.\n",
    "\n",
    "d. Plotted below is $\\frac{dp}{dt}$ vs. the amount of protein in the system (assuming $r_{\\text{steady state}}$). Recall our analysis of fluctuations with the derivative of Gibbs free energy with system composition. Here we ask you to something similar. \n",
    "\n",
    "   * When the system has protein > $p_{\\text{steady state}}$, what is the sign of the derivative $\\frac{dp}{dt}$?\n",
    "   * Given this sign, in a small time step, $dt$, will the system inrease or decrease the amount of protein?\n",
    "   * Repeat the above analysis for when protein < $p_{\\text{steady state}}$.\n",
    "   * Would you conclude that this steady state is stable (most fluctuations are reflected back) or unstable (most fluctuations are amplified away from the steady state)?\n",
    "    \n",
    "e. Given your answers in (d), can we conclude that $p_{\\text{steady state}} = \\langle p \\rangle$. Why or why not?"
   ]
  },
  {
   "cell_type": "code",
   "execution_count": 10,
   "metadata": {},
   "outputs": [
    {
     "data": {
      "text/plain": [
       "[<matplotlib.lines.Line2D at 0x132384990>]"
      ]
     },
     "execution_count": 10,
     "metadata": {},
     "output_type": "execute_result"
    }
   ],
   "source": [
    "ps = np.linspace(0, 1500, 200)\n",
    "dp = kp * kr / gr - gp * ps\n",
    "fig, ax = plt.subplots(figsize=(5,4), dpi=100)\n",
    "plt.plot(ps, dp)\n",
    "plt.ylabel(r'$\\frac{dp}{dt}$', rotation=0)\n",
    "plt.xlabel('Amount of protein')\n",
    "plt.hlines(0, 0, 1500, alpha=0.5)\n",
    "plt.plot([1200], [0], marker='o', markersize=10, color=\"blue\")"
   ]
  },
  {
   "cell_type": "markdown",
   "metadata": {},
   "source": [
    "## The origin of noise in reaction systems comes from the random times at which individual reactions occur\n",
    "\n",
    "We broadly assume that in an infinitesimal amount of time $dt$ that there are only 2 possibilities: no reaction occurs, or exactly 1 reaction occurs.\n",
    "\n",
    "Consider a **single** reaction with the scheme:\n",
    "\n",
    "$$ \\text{reactants} \\xrightarrow[]{k} \\text{products} $$\n",
    "\n",
    "Suppose with the current amounts of species in the system that this produces an **overall rate of reaction** $q$. For example, if $ A + B \\xrightarrow[]{k} C $, then $q = k AB$. Under reasonable assumptions, we found in lecture that the probability that the reaction occurs at the particular time $\\tau$ is \n",
    "\n",
    "$$ p(\\tau) = q e^{-q \\tau}$$\n",
    "\n",
    "For multiple reactions, the probability of reaction $j$, occuring at time $\\tau$ is:\n",
    "\n",
    "$$ p(j, \\tau) = q_j e^{-Q_0 \\tau} $$\n",
    "\n",
    "Where $Q_0 = \\sum\\limits_i q_i $ is the sum of the reaction rates.\n",
    "\n",
    "Recall that our `Q` function returns `Q(state) = [rate of reaction 1, rate of reaction 2, etc. ]`.\n",
    "\n",
    "Below is the function `simulate_cme` (simulate chemical master equation), which takes the arguments `Q, V, time, s0`. Based off of the initial rates in the system `Q(s0)`, it samples a random reaction, $j$, and a random \"time until reaction\", $\\tau$, according to $ p(j, \\tau) = q_j e^{-Q_0 \\tau} $. Then it applies the appropropriate \"stoichiometric change vector\" to the current state of the system `s = s0 + V[j]`, and the new current time becomes `time = 0 + tau`.\n",
    "\n",
    "It repeats this process to build up a reaction trajectory, a sequence of reactions that is consistent with the rate laws given by our kinetic scheme.\n",
    "\n",
    "\n",
    "## Problem 2\n",
    "\n",
    "a. Run the simulation in the two `code cells` below and plot the result. Save the overall plot. \n",
    "\n",
    "b. Zoom in on 4 events in which 1 mRNA was present. How much protein was produced during the lifetime of each of the 4 mRNA? What is the average? How does this correspond to our paramter `b`?\n",
    "\n",
    "We have thus far described two situations with the same average, namely \"slower rna, higher protein burst\" or \"faster rna, lower protein burst\".\n",
    "\n",
    "c. Go to the [bionumbers](https://bionumbers.hms.harvard.edu/search.aspx) website and enter \"Estimated energy cost of RNA synthesis in adults\". On average how many nucleotides are used to make an mRNA?\n",
    "\n",
    "d. The final resulting mRNA (after processing) is on average ~1200 nucleotides. How many amino acids does this correspond to after translation? At the bionumbers website query \"atp cost of protein synthesis\". How many ATP does it take per amino acid? Which is more costly to produce the mRNA or the protein?\n",
    "\n",
    "e. Which strategy \"slower rna, higher protein burst\" or \"faster rna, lower protein burst\" is more energy efficient? Breifly explain. Which strategy is more accurate (has lower variance)? Briefly explain."
   ]
  },
  {
   "cell_type": "code",
   "execution_count": 11,
   "metadata": {},
   "outputs": [
    {
     "name": "stdout",
     "output_type": "stream",
     "text": [
      "(6125, 3)\n"
     ]
    }
   ],
   "source": [
    "time = 10000\n",
    "tr1, ti1 = simulate_cme(Q, V, time, s0)\n",
    "print(tr1.shape)\n",
    "ti1 /= 60 # convert to minutes\n",
    "protein1 = tr1[:, 2]\n",
    "rna1 = tr1[:, 1]\n",
    "dna1 = tr1[:, 0]"
   ]
  },
  {
   "cell_type": "code",
   "execution_count": 12,
   "metadata": {},
   "outputs": [
    {
     "name": "stdout",
     "output_type": "stream",
     "text": [
      "\n"
     ]
    }
   ],
   "source": [
    "plt.step(ti1, protein1, label='protein', where='post')\n",
    "plt.ylabel('Protein', color='C0')\n",
    "plt.xlabel(\"Time (min)\")\n",
    "ax2 = plt.gca().twinx()\n",
    "ax2.step(ti1, rna1, label='rna', color='C1', alpha=0.5, where='post')\n",
    "ax2.set_ylabel(\"RNA\", color='C1')\n",
    "ax2.set_yticks(np.arange(tr1[:, 1].min(), tr1[:,1].max()+1))\n",
    "print('')"
   ]
  },
  {
   "cell_type": "markdown",
   "metadata": {},
   "source": [
    "<a id='nofeedback'></a>\n",
    "\n",
    "## Faster transcription, lower burst\n",
    "\n",
    "## Problem 3\n",
    "\n",
    "a. Update the rates constants with the code cell below. Run the simulation, and plot the results. Save the figure.\n",
    "\n",
    "b. What does the equilibrium value of protein appear to be from the plot? For this set of rate constants what is the analytic solution for the mean $\\langle p \\rangle$ (using 1c.). Discuss any discrepancy of the trajectory from the expected value.\n",
    "\n",
    "c. Are the trajectories for this new set of rate constants more or less noisy than those from `problem 2`? Why or why not?\n",
    "\n",
    "a. [How long](#time1) does it take to reach steady state?"
   ]
  },
  {
   "cell_type": "code",
   "execution_count": 13,
   "metadata": {},
   "outputs": [],
   "source": [
    "kr = 0.048  # rna/sec\n",
    "b = 10  # mean proteins made per rna\n",
    "kp = b * gr\n",
    "\n",
    "krates = [[ 0,  0,  0],\n",
    "          [kr,  0,  0],\n",
    "          [0,  kp,  0]]\n",
    "\n",
    "grates = [[ 0,  0,  0],\n",
    "          [ 0, gr,  0],\n",
    "          [ 0,  0, gp]]\n",
    "\n",
    "krates = np.array(krates)\n",
    "grates = np.array(grates)\n",
    "\n",
    "@numba.jit(nopython=True)\n",
    "def Q(state):\n",
    "    return np.concatenate((dot(krates, state), dot(grates, state)))"
   ]
  },
  {
   "cell_type": "code",
   "execution_count": 14,
   "metadata": {},
   "outputs": [
    {
     "name": "stdout",
     "output_type": "stream",
     "text": [
      "(14872, 3)\n"
     ]
    }
   ],
   "source": [
    "time = 15000\n",
    "tr1, ti1 = simulate_cme(Q, V, time, s0)\n",
    "print(tr1.shape)\n",
    "ti1 /= 60 # convert to minutes\n",
    "protein1 = tr1[:, 2]\n",
    "rna1 = tr1[:, 1]\n",
    "dna1 = tr1[:, 0]"
   ]
  },
  {
   "cell_type": "code",
   "execution_count": 15,
   "metadata": {},
   "outputs": [
    {
     "name": "stdout",
     "output_type": "stream",
     "text": [
      "\n"
     ]
    }
   ],
   "source": [
    "plt.step(ti1, protein1, label='protein', where='post')\n",
    "plt.ylabel('Protein', color='C0')\n",
    "plt.xlabel(\"Time (min)\")\n",
    "ax2 = plt.gca().twinx()\n",
    "ax2.step(ti1, rna1, label='rna', color='C1', alpha=0.5, where='post')\n",
    "ax2.set_ylabel(\"RNA\", color='C1')\n",
    "ax2.set_yticks(np.arange(tr1[:, 1].min(), tr1[:,1].max()+1))\n",
    "print('')"
   ]
  },
  {
   "cell_type": "markdown",
   "metadata": {},
   "source": [
    "<a id='time1'></a>\n",
    "\n",
    "### Time until steady state\n",
    "\n",
    "We will use the time until within 1 standard devation of mean."
   ]
  },
  {
   "cell_type": "code",
   "execution_count": 16,
   "metadata": {},
   "outputs": [
    {
     "name": "stdout",
     "output_type": "stream",
     "text": [
      "mean: 1173.91,  sd: 90.26\n",
      "time until steady state: 1.47 hours\n"
     ]
    }
   ],
   "source": [
    "ps = protein1[-len(protein1)//5:]\n",
    "m = ps.mean()\n",
    "sd = ps.std()\n",
    "ix = (protein1 > m - sd).argmax()\n",
    "tss = ti1[ix]\n",
    "print(f'mean: {m:.02f},  sd: {sd:.02f}')\n",
    "print(f'time until steady state: {tss/60:.02f} hours')"
   ]
  },
  {
   "cell_type": "markdown",
   "metadata": {},
   "source": [
    "# Simulating a population of cells\n",
    "\n",
    "We have seen that when a particular gene (g) is turned on, that the noisy process of transcription and translation results varying protein levels. To observe what would happen to a population of cells that begin transcription of a gene we will run the above simulation many times with a fixed end point to observe how the trajectories vary.\n",
    "\n",
    "## Problem 4\n",
    "\n",
    "a. Run the code cell below for `ncells = 100` and then plot and save the resulting histogram. Clearly 100 cells is insufficient, but it gives us an idea of the spread.\n",
    "\n",
    "b. Repeat with `ncells = 5000`. This will take a while (~2-5 mins). Once it is completed, uncomment the command `np.save('single', p_final1)`, and run the code cell to save the results to a file called `single.npy`. Re-comment the line (add a `#` at the beginning) to prevent accidentally overwritting the data. If you ever want to recover the data you can uncomment and run the line `p_final1 = np.load('single.npy')`. Plot the results of `ncells = 5000` and save the figure.\n",
    "\n",
    "c. What is the mean and standard deviation of protein copy number across cells? How does the mean compare to your analytic result?"
   ]
  },
  {
   "cell_type": "code",
   "execution_count": 17,
   "metadata": {},
   "outputs": [],
   "source": [
    "# this will take a while\n",
    "ncells = 5000\n",
    "p_final1 = []\n",
    "for _ in range(ncells):\n",
    "    tr, ti = runtime_cme(Q, V, time, s0)\n",
    "    p_final1.append(tr[2])\n",
    "p_final1 = np.array(p_final1)"
   ]
  },
  {
   "cell_type": "code",
   "execution_count": 18,
   "metadata": {},
   "outputs": [],
   "source": [
    "# np.save('single', p_final1)"
   ]
  },
  {
   "cell_type": "code",
   "execution_count": 20,
   "metadata": {},
   "outputs": [],
   "source": [
    "# p_final1 = np.load('data/single.npy')"
   ]
  },
  {
   "cell_type": "code",
   "execution_count": 19,
   "metadata": {},
   "outputs": [
    {
     "name": "stdout",
     "output_type": "stream",
     "text": [
      "Mean: 1196.1008, Standard deviation: 112.05762909931657\n"
     ]
    }
   ],
   "source": [
    "print(f'Mean: {p_final1.mean()}, Standard deviation: {p_final1.std()}')"
   ]
  },
  {
   "cell_type": "code",
   "execution_count": 20,
   "metadata": {},
   "outputs": [],
   "source": [
    "plt.figure(figsize=(5,5))\n",
    "plt.hist(p_final1, bins=np.arange(p_final1.min(), p_final1.max(), 20))\n",
    "plt.xlabel('protein copy number')\n",
    "plt.ylabel('Number of cells')\n",
    "plt.tight_layout()"
   ]
  },
  {
   "cell_type": "markdown",
   "metadata": {},
   "source": [
    "# Motif 2: Negative autoregulation\n",
    "\n",
    "<img src=\"media/negautoregulation.png\" width=\"700\">\n",
    "\n",
    "We will now introduce negative autoregulation into the system. To do this, we make a new function `Q_autoregulation`. This function will alter the transcription rate from the default transcription rate to a new one based on the current protein level.\n",
    "\n",
    "Recall that for the standard ligand binding isotherm \n",
    "\n",
    "$$f_{\\text{bound}} = \\frac{1}{\\frac{Kd}{[L]} + 1}$$\n",
    "\n",
    "That a 100-fold change in binding occurs over the 100-fold change in ligand concentration from $[L] = 0.1 K_d$ to $[L] = 10 K_d$ (see Figure 12.11A in the book).\n",
    "\n",
    "More generally, it is found that a 100-fold change in *response* (in this case binding fraction of ligand) can occur over much smaller ranges. This can arise if there are multiple binding sites available and if the binding of one ligand increases the likelihood of a subsequent ligand to bind. (See section 14.2 and 14.3 in the book). It can also arise in other ways. But the take home message is that **the sharpness of response** is a parameter that varies from system to system.\n",
    "\n",
    "Generally, the response function of a system that is *saturable* is:\n",
    "\n",
    "$$ y = \\frac{1}{x^n + 1} $$\n",
    "\n",
    "Where at high $x, y=1$ and at low $x, y=0$ and $n$ tunes the *sharpness* of response. \n",
    "\n",
    "Below we use the function\n",
    "\n",
    "$$ \\frac{k_r}{k_r^{max}} = \\frac{1}{\\left( \\frac{K_d}{p} \\right)^n + 1} $$\n",
    "\n",
    "To tune the transcription rate based on the current protein copy number. Once protein reaches $p \\approx Kd$ then the transcription rate is halved.\n"
   ]
  },
  {
   "cell_type": "code",
   "execution_count": 21,
   "metadata": {},
   "outputs": [],
   "source": [
    "Kdr = 600  # protein copy number\n",
    "h_coeffr = 1.5\n",
    "\n",
    "@numba.jit(nopython=True)\n",
    "def Q_autoregulation(state):\n",
    "    p = dot(krates, state)\n",
    "    y = (state[2]/Kdr)**h_coeffr\n",
    "    p[1] *= 1 / (1 + y)\n",
    "    m = dot(grates, state)\n",
    "    rates = np.concatenate((p, m))\n",
    "    assert np.all(rates >= 0), \"negative rate encountered\"\n",
    "    return rates"
   ]
  },
  {
   "cell_type": "markdown",
   "metadata": {},
   "source": [
    "<a id='p5'></a>\n",
    "\n",
    "## Problem 5\n",
    "\n",
    "a. Using the values `Kd = 600` and `n = 1.5`, calculate the value of $\\frac{k_r}{k_r^{max}}$ for `p = 300, 600, 900`.\n",
    "\n",
    "b. Run the simulation below, then plot and save the result. What value does the protein copy number appear to equilibrate to? Breifly explain why.\n",
    "\n",
    "c. [How long](#time2) does it take for the system to approach steady state with negative feedback? Is this faster or slower than [before](#time1)? Explain."
   ]
  },
  {
   "cell_type": "code",
   "execution_count": 22,
   "metadata": {},
   "outputs": [
    {
     "name": "stdout",
     "output_type": "stream",
     "text": [
      "(8384, 3)\n"
     ]
    }
   ],
   "source": [
    "tr2, ti2 = simulate_cme(Q_autoregulation, V, time, s0)\n",
    "print(tr2.shape)\n",
    "ti2 /= 60 # convert to minutes\n",
    "protein2 = tr2[:, 2]\n",
    "rna2 = tr2[:, 1]\n",
    "dna2 = tr2[:, 0]"
   ]
  },
  {
   "cell_type": "code",
   "execution_count": 23,
   "metadata": {
    "scrolled": true
   },
   "outputs": [
    {
     "name": "stdout",
     "output_type": "stream",
     "text": [
      "\n"
     ]
    }
   ],
   "source": [
    "plt.step(ti2, protein2, label='protein', where='post')\n",
    "plt.ylabel('Protein', color='C0')\n",
    "plt.xlabel(\"Time (min)\")\n",
    "ax2 = plt.gca().twinx()\n",
    "ax2.step(ti2, rna2, label='rna', color='C1', alpha=0.5, where='post')\n",
    "ax2.set_ylabel(\"RNA\", color='C1')\n",
    "ax2.set_yticks(np.arange(tr2[:, 1].min(), tr2[:,1].max()+1))\n",
    "print('')"
   ]
  },
  {
   "cell_type": "markdown",
   "metadata": {},
   "source": [
    "<a id='time2'></a>\n",
    "\n",
    "## Time until system reaches steady state"
   ]
  },
  {
   "cell_type": "code",
   "execution_count": 24,
   "metadata": {},
   "outputs": [
    {
     "name": "stdout",
     "output_type": "stream",
     "text": [
      "mean: 665.17,  sd: 60.11\n",
      "time until steady state: 1.42 hours\n"
     ]
    }
   ],
   "source": [
    "ps = protein2[len(protein2)//2:]\n",
    "m = ps.mean()\n",
    "sd = ps.std()\n",
    "ix = (protein2 > m - sd).argmax()\n",
    "tss = ti2[ix]\n",
    "print(f'mean: {m:.02f},  sd: {sd:.02f}')\n",
    "print(f'time until steady state: {tss/60:.02f} hours')"
   ]
  },
  {
   "cell_type": "markdown",
   "metadata": {},
   "source": [
    "<a id='p6'></a>\n",
    "\n",
    "## Problem 6\n",
    "\n",
    "a. Run the code cell below for `ncells = 100` and then plot and save the resulting histogram. Clearly 100 cells is insufficient, but it gives us an idea of the spread.\n",
    "\n",
    "b. Repeat with `ncells = 5000`. This will take a while (~3-7 mins). Once it is completed, uncomment the command `np.save('negative', p_final2)`, and run the code cell to save the results to a file called `negative.npy`. Re-comment the line (add a `#` at the beginning) to prevent accidentally overwritting the data. If you ever want to recover the data you can uncomment and run the line `p_final2 = np.load('negative.npy')`. Plot the results of `ncells = 5000` and save the figure.\n",
    "\n",
    "c. What is the mean and standard deviation of protein copy number across cells? How does the mean compare to your analytic result for the [no feedback](#nofeedback) case?"
   ]
  },
  {
   "cell_type": "code",
   "execution_count": 25,
   "metadata": {},
   "outputs": [],
   "source": [
    "ncells = 50\n",
    "p_final2 = []\n",
    "for _ in range(ncells):\n",
    "    tr, ti = runtime_cme(Q_autoregulation, V, time, s0)\n",
    "    p_final2.append(tr[2])\n",
    "p_final2 = np.array(p_final2)"
   ]
  },
  {
   "cell_type": "code",
   "execution_count": 26,
   "metadata": {},
   "outputs": [],
   "source": [
    "# np.save('negative', p_final2)"
   ]
  },
  {
   "cell_type": "code",
   "execution_count": 27,
   "metadata": {},
   "outputs": [],
   "source": [
    "p_final2 = np.load('data/negative.npy')"
   ]
  },
  {
   "cell_type": "code",
   "execution_count": 28,
   "metadata": {},
   "outputs": [
    {
     "name": "stdout",
     "output_type": "stream",
     "text": [
      "Mean: 599.483, Standard deviation: 61.90682442994471\n"
     ]
    }
   ],
   "source": [
    "print(f'Mean: {p_final2.mean()}, Standard deviation: {p_final2.std()}')"
   ]
  },
  {
   "cell_type": "code",
   "execution_count": 29,
   "metadata": {},
   "outputs": [
    {
     "name": "stdout",
     "output_type": "stream",
     "text": [
      "\n"
     ]
    }
   ],
   "source": [
    "plt.figure(figsize=(5,5))\n",
    "plt.hist(p_final2, bins=np.arange(p_final2.min(), p_final2.max(), 20))\n",
    "plt.xlabel('protein copy number')\n",
    "plt.ylabel('Number of cells')\n",
    "plt.tight_layout()\n",
    "\n",
    "print()"
   ]
  },
  {
   "cell_type": "markdown",
   "metadata": {},
   "source": [
    "## Problem 7\n",
    "\n",
    "a. Plot the results of `p_final1` and `p_final2` on the same axis, along with the rate of transcription as a function of protein copy number. Save the figure.\n",
    "\n",
    "b. Which system, repressed or unrepressed, exhibits greater noise? Give a brief explanaition."
   ]
  },
  {
   "cell_type": "code",
   "execution_count": 30,
   "metadata": {},
   "outputs": [],
   "source": [
    "pool = np.concatenate([p_final1, p_final2])\n",
    "bins = np.arange(0, pool.max()*1.1, 20)\n",
    "hill = 1/(1+(bins/Kdr)**h_coeffr)"
   ]
  },
  {
   "cell_type": "code",
   "execution_count": 34,
   "metadata": {},
   "outputs": [
    {
     "name": "stdout",
     "output_type": "stream",
     "text": [
      "\n"
     ]
    }
   ],
   "source": [
    "fig, ax = plt.subplots(figsize=(5,4))\n",
    "v2, _, _ = plt.hist(p_final2, bins=bins, alpha=0.6, label='repressed')\n",
    "v, _, _ = plt.hist(p_final1, bins=bins, alpha=0.6, label='unrepressed')\n",
    "plt.xlabel('protein copy number')\n",
    "plt.ylabel('number of cells')\n",
    "ax.legend()\n",
    "\n",
    "ax2 = ax.twinx()\n",
    "ax2.plot(bins, 100*hill, color='C2', label='hill')\n",
    "ax2.set_ylabel('transcription rate %', color='C2')\n",
    "plt.tight_layout()\n",
    "\n",
    "print()"
   ]
  },
  {
   "cell_type": "markdown",
   "metadata": {},
   "source": [
    "# Motif 3: bistability from positive autoregulation (autocatalysis)\n",
    "\n",
    "<img src=\"media/posautoregulation.png\" width=\"700\">\n",
    "\n",
    "Now we suppose that the protein is capable of increasing the rate of transcription (possibly by helping recruit the polymerase). \n",
    "\n",
    "We again introduce a saturable response function:\n",
    "\n",
    "$$ \\frac{k_r}{k_{r0}} = k_{r0}\\left( 1 + \\frac{2}{\\left( \\frac{K_d}{p} \\right)^n + 1} \\right)$$\n",
    "\n",
    "So at high protein copy number (relative to $K_d$) the transcription rate is 3 times higher than the baseline rate $k_{r0}$.\n",
    "\n",
    "We set $K_d = 1.7 \\langle p \\rangle_{\\text{no feedback}}$ \n",
    "\n",
    "So if $p$ stays close to the mean then the positive feedback won't have much of an effect, but if $p$ has an abnormally high fluctuation, then it effectively turns on the positive feeback and the new transcription rate is up to 3 times higher than the baseline.\n",
    "\n",
    "This creates two general states, one with the low positive feedback, and one with high positive feedback (3x $k_{r0}$) and it arises due to the sharp response function coupled with the already inherently noisy process of translation."
   ]
  },
  {
   "cell_type": "code",
   "execution_count": 35,
   "metadata": {},
   "outputs": [],
   "source": [
    "pmean = kr * kp / gp / gr\n",
    "Kdp = pmean * 1.47\n",
    "h_coeffp = 12\n",
    "factor = 2\n",
    "\n",
    "@numba.jit(nopython=True)\n",
    "def Q_autocatalytic(state):\n",
    "    p = dot(krates, state)\n",
    "    y = (state[2]/Kdp)**h_coeffp\n",
    "    p[1] += p[1]*factor * y / (1 + y)\n",
    "    m = dot(grates, state)\n",
    "    rates = np.concatenate((p, m))\n",
    "    assert np.all(rates >= 0), \"negative rate encountered\"\n",
    "    return rates\n"
   ]
  },
  {
   "cell_type": "markdown",
   "metadata": {},
   "source": [
    "## Problem 8\n",
    "\n",
    "a. Assuming that there was no feedback in the system, but that simply `kr = 3 * 0.0048`, what would the new steady state protein concentration be?\n",
    "\n",
    "b. Run the `code cell` below 4-5 times. You should be able to identify trajectories that remain in the slow transcription state, and those that switch into a high transcription state. Save 2 plots, one that typifies the slow transcription state, and another that typifies a transition to the fast transcription state.\n",
    "\n",
    "c. For systems that transition to the fast transcription state, how long (overall) does it take to reach the new steady state? How does this compare to [no feedback](#nofeedback) and [negative feedback](#p5)?"
   ]
  },
  {
   "cell_type": "code",
   "execution_count": 36,
   "metadata": {},
   "outputs": [
    {
     "name": "stdout",
     "output_type": "stream",
     "text": [
      "(8384, 3)\n",
      "mean: 1191.65,  sd: 96.97\n",
      "time until steady state: 0.81 hours\n",
      "\n"
     ]
    }
   ],
   "source": [
    "tr3, ti3 = simulate_cme(Q_autocatalytic, V, 3*time, s0)\n",
    "print(tr2.shape)\n",
    "ti3 /= 60 # convert to minutes\n",
    "protein3 = tr3[:, 2]\n",
    "rna3 = tr3[:, 1]\n",
    "dna3 = tr3[:, 0]\n",
    "\n",
    "ps = protein3[len(protein3)//2:]\n",
    "m = ps.mean()\n",
    "sd = ps.std()\n",
    "ix = (protein3 > m - sd).argmax()\n",
    "tss = ti3[ix]\n",
    "print(f'mean: {m:.02f},  sd: {sd:.02f}')\n",
    "print(f'time until steady state: {tss/60:.02f} hours')\n",
    "\n",
    "plt.step(ti3, protein3, label='protein', where='post')\n",
    "plt.ylabel('Protein', color='C0')\n",
    "plt.xlabel(\"Time (min)\")\n",
    "ax2 = plt.gca().twinx()\n",
    "ax2.step(ti3, rna3, label='rna', color='C1', alpha=0.5, where='post')\n",
    "ax2.set_ylabel(\"RNA\", color='C1')\n",
    "ax2.set_yticks(np.arange(tr3[:, 1].min(), tr3[:,1].max()+1))\n",
    "print('')"
   ]
  },
  {
   "cell_type": "markdown",
   "metadata": {},
   "source": [
    "## Problem 9\n",
    "\n",
    "a. Run the cell below with `ncells = 5000`. This will take a while (~10-20 mins). Once it is completed, uncomment the command `np.save('bistable', p_final3)`, and run the code cell to save the results to a file called `bistable.npy`. Re-comment the line (add a `#` at the beginning) to prevent accidentally overwritting the data. If you ever want to reload the data you can uncomment and run the line `p_final3 = np.load('bistable.npy')`. Plot the results of `ncells = 5000` and save the figure.\n",
    "\n",
    "b. What appears to be the mean of the two states? How does this compare to the analytic results of [no feedback](#nofeedback)? (3b)\n",
    "\n",
    "c. If we decreased the parameter `n` from 12 down to 6, making the transition to higher transcription less sharp, what effect would that have on the valley between the two states? Give justification for your hypothesis."
   ]
  },
  {
   "cell_type": "code",
   "execution_count": 43,
   "metadata": {},
   "outputs": [],
   "source": [
    "# this will take a while\n",
    "ncells = 3000\n",
    "p_final3 = []\n",
    "for _ in range(ncells):\n",
    "    tr, ti = runtime_cme(Q_autocatalytic, V, 3*time, s0)\n",
    "    p_final3.append(tr[2])\n",
    "p_final3 = np.array(p_final3)"
   ]
  },
  {
   "cell_type": "code",
   "execution_count": 38,
   "metadata": {},
   "outputs": [],
   "source": [
    "# np.save('bistable', p_final3)"
   ]
  },
  {
   "cell_type": "code",
   "execution_count": 39,
   "metadata": {},
   "outputs": [],
   "source": [
    "# p_final3 = np.load('data/bistable.npy')"
   ]
  },
  {
   "cell_type": "code",
   "execution_count": 39,
   "metadata": {},
   "outputs": [
    {
     "name": "stdout",
     "output_type": "stream",
     "text": [
      "Mean: 1884.7, Standard deviation: 1123.1827144325184\n"
     ]
    }
   ],
   "source": [
    "print(f'Mean: {p_final3.mean()}, Standard deviation: {p_final3.std()}')"
   ]
  },
  {
   "cell_type": "code",
   "execution_count": 40,
   "metadata": {},
   "outputs": [
    {
     "name": "stdout",
     "output_type": "stream",
     "text": [
      "\n"
     ]
    }
   ],
   "source": [
    "plt.figure(figsize=(5,4))\n",
    "plt.hist(p_final3, bins=np.arange(p_final3.min(), p_final3.max(), 50))\n",
    "plt.xlabel('protein copy number')\n",
    "plt.ylabel('Number of cells')\n",
    "plt.tight_layout()\n",
    "print()"
   ]
  },
  {
   "cell_type": "markdown",
   "metadata": {},
   "source": [
    "## Problem 10\n",
    "\n",
    "a. Plot the results of the `no feedback` system (`p_final1`) along with the results from the system with positive feedback `p_final3`. Also plot the transcription rate as a function of protein concentration. Save the result.\n",
    "\n",
    "b. Rank the systems above (no feedback, negative feedback, positive feedback) from lowest noise to highest noise in protein copy number.\n"
   ]
  },
  {
   "cell_type": "code",
   "execution_count": 41,
   "metadata": {},
   "outputs": [],
   "source": [
    "pool = np.concatenate([p_final1, p_final3])\n",
    "bins = np.arange(pool.min()/2, pool.max(), 50)\n",
    "y = (bins/Kdp)**h_coeffp\n",
    "hill = y / (1 + y)"
   ]
  },
  {
   "cell_type": "code",
   "execution_count": 42,
   "metadata": {},
   "outputs": [
    {
     "name": "stdout",
     "output_type": "stream",
     "text": [
      "\n"
     ]
    }
   ],
   "source": [
    "fig, ax = plt.subplots(figsize=(5,4))\n",
    "v2, _, _ = plt.hist(p_final3, bins=bins, alpha=0.6, label='autocatalytic', density=1)\n",
    "v, _, _ = plt.hist(p_final1, bins=bins, alpha=0.6, label='linear', density=1)\n",
    "plt.xlabel('protein copy number')\n",
    "plt.ylabel('probability')\n",
    "\n",
    "ax2 = ax.twinx()\n",
    "ax2.plot(bins, 300*hill, color='C2', label='hill')\n",
    "ax2.set_ylabel('transcription rate %', color='C2')\n",
    "\n",
    "ax.legend(loc=7)\n",
    "\n",
    "\n",
    "plt.tight_layout()\n",
    "\n",
    "print()"
   ]
  },
  {
   "cell_type": "code",
   "execution_count": null,
   "metadata": {},
   "outputs": [],
   "source": []
  }
 ],
 "metadata": {
  "kernelspec": {
   "display_name": "Python 3",
   "language": "python",
   "name": "python3"
  },
  "language_info": {
   "codemirror_mode": {
    "name": "ipython",
    "version": 3
   },
   "file_extension": ".py",
   "mimetype": "text/x-python",
   "name": "python",
   "nbconvert_exporter": "python",
   "pygments_lexer": "ipython3",
   "version": "3.7.4"
  }
 },
 "nbformat": 4,
 "nbformat_minor": 2
}
